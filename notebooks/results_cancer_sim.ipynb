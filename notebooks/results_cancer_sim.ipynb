{
 "cells": [
  {
   "metadata": {},
   "cell_type": "markdown",
   "source": "**_Results for the semi-synthetic dataset_**",
   "id": "30f2752579a396e9"
  },
  {
   "metadata": {
    "ExecuteTime": {
     "end_time": "2024-05-22T11:38:45.944635Z",
     "start_time": "2024-05-22T11:38:45.937886Z"
    }
   },
   "cell_type": "code",
   "source": [
    "import mlflow\n",
    "from mlflow.tracking import MlflowClient\n",
    "import pandas as pd\n",
    "import numpy as np\n",
    "import seaborn as sns\n",
    "import matplotlib.pyplot as plt"
   ],
   "id": "initial_id",
   "outputs": [],
   "execution_count": 17
  },
  {
   "metadata": {},
   "cell_type": "markdown",
   "source": "**1) Set up client**",
   "id": "385ff5eb6946ed24"
  },
  {
   "metadata": {
    "ExecuteTime": {
     "end_time": "2024-05-22T11:38:47.068818Z",
     "start_time": "2024-05-22T11:38:47.036884Z"
    }
   },
   "cell_type": "code",
   "source": [
    "mlflow.set_tracking_uri('http://localhost:3333')\n",
    "client = MlflowClient()"
   ],
   "id": "f43faa6ffd34b516",
   "outputs": [],
   "execution_count": 18
  },
  {
   "metadata": {},
   "cell_type": "markdown",
   "source": "**2) List experiments**",
   "id": "3bfb5b447c84178a"
  },
  {
   "metadata": {
    "ExecuteTime": {
     "end_time": "2024-05-22T11:38:48.463411Z",
     "start_time": "2024-05-22T11:38:48.276469Z"
    }
   },
   "cell_type": "code",
   "source": [
    "model_names = ['GT', 'CT', 'CRN', 'TECDE', 'RMSN', 'G-Net']\n",
    "experiment_names = [model_name + '/tumor_generator_FINAL' for model_name in model_names]\n",
    "experiments = {exp.name: exp.experiment_id for exp in client.search_experiments()}"
   ],
   "id": "ae97b3bfd9c6bd33",
   "outputs": [],
   "execution_count": 19
  },
  {
   "metadata": {},
   "cell_type": "markdown",
   "source": "**3) Access all runs within each experiment and extract metrics + params**",
   "id": "27b55ef32eca858a"
  },
  {
   "metadata": {
    "ExecuteTime": {
     "end_time": "2024-05-22T11:38:57.822589Z",
     "start_time": "2024-05-22T11:38:50.503037Z"
    }
   },
   "cell_type": "code",
   "source": [
    "metric_names = ['decoder_test_rmse_2-step']\n",
    "\n",
    "param_names = ['model/name', 'dataset/coeff', 'dataset/seed', 'dataset/num_patients/train']\n",
    "data_dict = {}\n",
    "\n",
    "for experiment_name in experiment_names:\n",
    "    if experiment_name in experiments:\n",
    "        experiment_id = experiments[experiment_name]\n",
    "        # Get all runs for the experiment\n",
    "        runs = client.search_runs(experiment_ids=[experiment_id])\n",
    "        # Extract metrics and parameters\n",
    "        runs_data = [\n",
    "            {\n",
    "                **run.data.metrics,\n",
    "                **run.data.params,\n",
    "                'run_id': run.info.run_id\n",
    "            }\n",
    "            for run in runs\n",
    "        ]\n",
    "        combined_df = pd.DataFrame(runs_data)\n",
    "        \n",
    "        if not combined_df.empty:\n",
    "            # Filter the DataFrame to only include the desired metrics and parameters\n",
    "            columns_to_include = ['run_id'] + metric_names + param_names\n",
    "            filtered_df = combined_df[columns_to_include]\n",
    "            data_dict[experiment_name.split(\"/\")[0]] = filtered_df\n",
    "        else:\n",
    "            print(f\"No runs found for experiment {experiment_name}.\")\n",
    "    else:\n",
    "        print(f\"Experiment {experiment_name} does not exist.\")\n",
    "\n",
    "for model in model_names:\n",
    "    data_dict[model] = data_dict[model].rename(columns={'decoder_test_rmse_2-step': '2',\n",
    "                                                        'dataset/coeff': 'gamma',\n",
    "                                                        'dataset/num_patients/train': 'N'})\n",
    "    data_dict[model]['gamma'] = pd.to_numeric(data_dict[model]['gamma'])"
   ],
   "id": "287cef8dcbdba6fd",
   "outputs": [],
   "execution_count": 20
  },
  {
   "metadata": {},
   "cell_type": "markdown",
   "source": "**4) Compute mean and std of RMSEs per model and confounding strength**",
   "id": "49a081513e655398"
  },
  {
   "metadata": {
    "ExecuteTime": {
     "end_time": "2024-05-22T11:38:57.852054Z",
     "start_time": "2024-05-22T11:38:57.823595Z"
    }
   },
   "cell_type": "code",
   "source": [
    "GT_mean_rmse = data_dict['GT'].groupby('gamma')[['2']].mean()\n",
    "GT_mean_rmse['model'] = 'GT'\n",
    "GT_std_rmse = data_dict['GT'].groupby('gamma')[['2']].std()\n",
    "GT_std_rmse['model'] = 'GT'\n",
    "\n",
    "GNet_mean_rmse = data_dict['G-Net'].groupby('gamma')[['2']].mean()\n",
    "GNet_mean_rmse['model'] = 'G-Net'\n",
    "GNet_std_rmse = data_dict['G-Net'].groupby('gamma')[['2']].std()\n",
    "GNet_std_rmse['model'] = 'G-Net'\n",
    "\n",
    "RMSN_mean_rmse = data_dict['RMSN'].groupby('gamma')[['2']].mean()\n",
    "RMSN_mean_rmse['model'] = 'RMSN'\n",
    "RMSN_std_rmse = data_dict['RMSN'].groupby('gamma')[['2']].std()\n",
    "RMSN_std_rmse['model'] = 'RMSN'\n",
    "\n",
    "\n",
    "CT_mean_rmse = data_dict['CT'].groupby('gamma')[['2']].mean()\n",
    "CT_mean_rmse['model'] = 'CT'\n",
    "CT_std_rmse = data_dict['CT'].groupby('gamma')[['2']].std()\n",
    "CT_std_rmse['model'] = 'CT'\n",
    "\n",
    "\n",
    "CRN_mean_rmse = data_dict['CRN'].groupby('gamma')[['2']].mean()\n",
    "CRN_mean_rmse['model'] = 'CRN'\n",
    "CRN_std_rmse = data_dict['CRN'].groupby('gamma')[['2']].std()\n",
    "CRN_std_rmse['model'] = 'CRN'\n",
    "\n",
    "\n",
    "TECDE_mean_rmse = data_dict['TECDE'].groupby('gamma')[['2']].mean()\n",
    "TECDE_mean_rmse['model'] = 'TECDE'\n",
    "TECDE_std_rmse = data_dict['TECDE'].groupby('gamma')[['2']].std()\n",
    "TECDE_std_rmse['model'] = 'TECDE'\n",
    "\n",
    "mean_rmse = pd.concat([GT_mean_rmse, GNet_mean_rmse, RMSN_mean_rmse, CT_mean_rmse, CRN_mean_rmse, TECDE_mean_rmse], axis=0).reset_index()\n",
    "mean_rmse['gamma'] = mean_rmse['gamma'].astype(float)\n",
    "mean_rmse = mean_rmse[['model', 'gamma', '2']].rename(columns={'2': 'mean_rmse'})\n",
    "std_rmse = pd.concat([GT_std_rmse, GNet_std_rmse, RMSN_std_rmse, CT_std_rmse, CRN_std_rmse, TECDE_std_rmse], axis=0).reset_index()\n",
    "std_rmse = std_rmse[['model', 'gamma', '2']].rename(columns={'2': 'std_rmse'})\n",
    "std_rmse['N'] = std_rmse['gamma'].astype(float)"
   ],
   "id": "692f05f5bf7c4faa",
   "outputs": [],
   "execution_count": 21
  },
  {
   "metadata": {},
   "cell_type": "markdown",
   "source": "**Average RMSE**",
   "id": "c6fd9c0bc79d0cde"
  },
  {
   "metadata": {
    "ExecuteTime": {
     "end_time": "2024-05-22T11:39:30.449389Z",
     "start_time": "2024-05-22T11:39:30.437359Z"
    }
   },
   "cell_type": "code",
   "source": [
    "mean_rmse=mean_rmse.sort_values(by=['model', 'gamma'])\n",
    "\n",
    "#sns.lineplot(data=mean_rmse, x='gamma', y='mean_rmse', hue='model', marker='o')\n",
    "mean_rmse"
   ],
   "id": "1bbadb4ec4ca908f",
   "outputs": [
    {
     "data": {
      "text/plain": [
       "    model  gamma  mean_rmse\n",
       "44    CRN   10.0   4.050165\n",
       "45    CRN   11.0   5.444592\n",
       "46    CRN   12.0   6.174003\n",
       "47    CRN   13.0   4.979471\n",
       "48    CRN   14.0   5.243874\n",
       "..    ...    ...        ...\n",
       "61  TECDE   16.0   4.837271\n",
       "62  TECDE   17.0   4.307843\n",
       "63  TECDE   18.0   4.442143\n",
       "64  TECDE   19.0   4.610445\n",
       "65  TECDE   20.0   4.716989\n",
       "\n",
       "[66 rows x 3 columns]"
      ],
      "text/html": [
       "<div>\n",
       "<style scoped>\n",
       "    .dataframe tbody tr th:only-of-type {\n",
       "        vertical-align: middle;\n",
       "    }\n",
       "\n",
       "    .dataframe tbody tr th {\n",
       "        vertical-align: top;\n",
       "    }\n",
       "\n",
       "    .dataframe thead th {\n",
       "        text-align: right;\n",
       "    }\n",
       "</style>\n",
       "<table border=\"1\" class=\"dataframe\">\n",
       "  <thead>\n",
       "    <tr style=\"text-align: right;\">\n",
       "      <th></th>\n",
       "      <th>model</th>\n",
       "      <th>gamma</th>\n",
       "      <th>mean_rmse</th>\n",
       "    </tr>\n",
       "  </thead>\n",
       "  <tbody>\n",
       "    <tr>\n",
       "      <th>44</th>\n",
       "      <td>CRN</td>\n",
       "      <td>10.0</td>\n",
       "      <td>4.050165</td>\n",
       "    </tr>\n",
       "    <tr>\n",
       "      <th>45</th>\n",
       "      <td>CRN</td>\n",
       "      <td>11.0</td>\n",
       "      <td>5.444592</td>\n",
       "    </tr>\n",
       "    <tr>\n",
       "      <th>46</th>\n",
       "      <td>CRN</td>\n",
       "      <td>12.0</td>\n",
       "      <td>6.174003</td>\n",
       "    </tr>\n",
       "    <tr>\n",
       "      <th>47</th>\n",
       "      <td>CRN</td>\n",
       "      <td>13.0</td>\n",
       "      <td>4.979471</td>\n",
       "    </tr>\n",
       "    <tr>\n",
       "      <th>48</th>\n",
       "      <td>CRN</td>\n",
       "      <td>14.0</td>\n",
       "      <td>5.243874</td>\n",
       "    </tr>\n",
       "    <tr>\n",
       "      <th>...</th>\n",
       "      <td>...</td>\n",
       "      <td>...</td>\n",
       "      <td>...</td>\n",
       "    </tr>\n",
       "    <tr>\n",
       "      <th>61</th>\n",
       "      <td>TECDE</td>\n",
       "      <td>16.0</td>\n",
       "      <td>4.837271</td>\n",
       "    </tr>\n",
       "    <tr>\n",
       "      <th>62</th>\n",
       "      <td>TECDE</td>\n",
       "      <td>17.0</td>\n",
       "      <td>4.307843</td>\n",
       "    </tr>\n",
       "    <tr>\n",
       "      <th>63</th>\n",
       "      <td>TECDE</td>\n",
       "      <td>18.0</td>\n",
       "      <td>4.442143</td>\n",
       "    </tr>\n",
       "    <tr>\n",
       "      <th>64</th>\n",
       "      <td>TECDE</td>\n",
       "      <td>19.0</td>\n",
       "      <td>4.610445</td>\n",
       "    </tr>\n",
       "    <tr>\n",
       "      <th>65</th>\n",
       "      <td>TECDE</td>\n",
       "      <td>20.0</td>\n",
       "      <td>4.716989</td>\n",
       "    </tr>\n",
       "  </tbody>\n",
       "</table>\n",
       "<p>66 rows × 3 columns</p>\n",
       "</div>"
      ]
     },
     "execution_count": 25,
     "metadata": {},
     "output_type": "execute_result"
    }
   ],
   "execution_count": 25
  },
  {
   "metadata": {},
   "cell_type": "markdown",
   "source": "**Standard deviation**",
   "id": "1a62675f36b7e43a"
  },
  {
   "metadata": {
    "ExecuteTime": {
     "end_time": "2024-05-22T11:39:03.262848Z",
     "start_time": "2024-05-22T11:39:03.250311Z"
    }
   },
   "cell_type": "code",
   "source": [
    "std_rmse=std_rmse.sort_values(by=['model', 'gamma'])\n",
    "std_rmse"
   ],
   "id": "5f34b2cf78e15a09",
   "outputs": [
    {
     "data": {
      "text/plain": [
       "    model  gamma  std_rmse     N\n",
       "44    CRN   10.0  0.545081  10.0\n",
       "45    CRN   11.0  1.678152  11.0\n",
       "46    CRN   12.0  1.270498  12.0\n",
       "47    CRN   13.0  1.487298  13.0\n",
       "48    CRN   14.0  0.325312  14.0\n",
       "..    ...    ...       ...   ...\n",
       "61  TECDE   16.0  0.463863  16.0\n",
       "62  TECDE   17.0  0.384258  17.0\n",
       "63  TECDE   18.0  0.531160  18.0\n",
       "64  TECDE   19.0  0.423011  19.0\n",
       "65  TECDE   20.0  0.452614  20.0\n",
       "\n",
       "[66 rows x 4 columns]"
      ],
      "text/html": [
       "<div>\n",
       "<style scoped>\n",
       "    .dataframe tbody tr th:only-of-type {\n",
       "        vertical-align: middle;\n",
       "    }\n",
       "\n",
       "    .dataframe tbody tr th {\n",
       "        vertical-align: top;\n",
       "    }\n",
       "\n",
       "    .dataframe thead th {\n",
       "        text-align: right;\n",
       "    }\n",
       "</style>\n",
       "<table border=\"1\" class=\"dataframe\">\n",
       "  <thead>\n",
       "    <tr style=\"text-align: right;\">\n",
       "      <th></th>\n",
       "      <th>model</th>\n",
       "      <th>gamma</th>\n",
       "      <th>std_rmse</th>\n",
       "      <th>N</th>\n",
       "    </tr>\n",
       "  </thead>\n",
       "  <tbody>\n",
       "    <tr>\n",
       "      <th>44</th>\n",
       "      <td>CRN</td>\n",
       "      <td>10.0</td>\n",
       "      <td>0.545081</td>\n",
       "      <td>10.0</td>\n",
       "    </tr>\n",
       "    <tr>\n",
       "      <th>45</th>\n",
       "      <td>CRN</td>\n",
       "      <td>11.0</td>\n",
       "      <td>1.678152</td>\n",
       "      <td>11.0</td>\n",
       "    </tr>\n",
       "    <tr>\n",
       "      <th>46</th>\n",
       "      <td>CRN</td>\n",
       "      <td>12.0</td>\n",
       "      <td>1.270498</td>\n",
       "      <td>12.0</td>\n",
       "    </tr>\n",
       "    <tr>\n",
       "      <th>47</th>\n",
       "      <td>CRN</td>\n",
       "      <td>13.0</td>\n",
       "      <td>1.487298</td>\n",
       "      <td>13.0</td>\n",
       "    </tr>\n",
       "    <tr>\n",
       "      <th>48</th>\n",
       "      <td>CRN</td>\n",
       "      <td>14.0</td>\n",
       "      <td>0.325312</td>\n",
       "      <td>14.0</td>\n",
       "    </tr>\n",
       "    <tr>\n",
       "      <th>...</th>\n",
       "      <td>...</td>\n",
       "      <td>...</td>\n",
       "      <td>...</td>\n",
       "      <td>...</td>\n",
       "    </tr>\n",
       "    <tr>\n",
       "      <th>61</th>\n",
       "      <td>TECDE</td>\n",
       "      <td>16.0</td>\n",
       "      <td>0.463863</td>\n",
       "      <td>16.0</td>\n",
       "    </tr>\n",
       "    <tr>\n",
       "      <th>62</th>\n",
       "      <td>TECDE</td>\n",
       "      <td>17.0</td>\n",
       "      <td>0.384258</td>\n",
       "      <td>17.0</td>\n",
       "    </tr>\n",
       "    <tr>\n",
       "      <th>63</th>\n",
       "      <td>TECDE</td>\n",
       "      <td>18.0</td>\n",
       "      <td>0.531160</td>\n",
       "      <td>18.0</td>\n",
       "    </tr>\n",
       "    <tr>\n",
       "      <th>64</th>\n",
       "      <td>TECDE</td>\n",
       "      <td>19.0</td>\n",
       "      <td>0.423011</td>\n",
       "      <td>19.0</td>\n",
       "    </tr>\n",
       "    <tr>\n",
       "      <th>65</th>\n",
       "      <td>TECDE</td>\n",
       "      <td>20.0</td>\n",
       "      <td>0.452614</td>\n",
       "      <td>20.0</td>\n",
       "    </tr>\n",
       "  </tbody>\n",
       "</table>\n",
       "<p>66 rows × 4 columns</p>\n",
       "</div>"
      ]
     },
     "execution_count": 23,
     "metadata": {},
     "output_type": "execute_result"
    }
   ],
   "execution_count": 23
  },
  {
   "metadata": {},
   "cell_type": "markdown",
   "source": "**Relative improvement** ",
   "id": "1ee60522d50ba0d9"
  },
  {
   "metadata": {
    "ExecuteTime": {
     "end_time": "2024-05-22T11:39:06.095044Z",
     "start_time": "2024-05-22T11:39:06.086841Z"
    }
   },
   "cell_type": "code",
   "source": [
    "non_GT_mean_rmse = mean_rmse[mean_rmse['model'] != 'GT']\n",
    "\n",
    "# minimum of non_GT_mean_rmse for each confounding parameter\n",
    "min_non_GT_mean_rmse = non_GT_mean_rmse.groupby('gamma')[['mean_rmse']].min()\n",
    "\n",
    "1 - np.array(GT_mean_rmse['2']) / np.array(min_non_GT_mean_rmse['mean_rmse'])\n"
   ],
   "id": "cd9ebc1588db587b",
   "outputs": [
    {
     "data": {
      "text/plain": [
       "array([0.06357549, 0.07292116, 0.07872555, 0.12938869, 0.15016834,\n",
       "       0.09892358, 0.1289567 , 0.13128205, 0.17447468, 0.14787989,\n",
       "       0.12492065])"
      ]
     },
     "execution_count": 24,
     "metadata": {},
     "output_type": "execute_result"
    }
   ],
   "execution_count": 24
  }
 ],
 "metadata": {
  "kernelspec": {
   "display_name": "Python 3",
   "language": "python",
   "name": "python3"
  },
  "language_info": {
   "codemirror_mode": {
    "name": "ipython",
    "version": 2
   },
   "file_extension": ".py",
   "mimetype": "text/x-python",
   "name": "python",
   "nbconvert_exporter": "python",
   "pygments_lexer": "ipython2",
   "version": "2.7.6"
  }
 },
 "nbformat": 4,
 "nbformat_minor": 5
}
