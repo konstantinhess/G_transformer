{
 "cells": [
  {
   "metadata": {},
   "cell_type": "markdown",
   "source": "_**Results for the semi-synthetic dataset**_",
   "id": "30f2752579a396e9"
  },
  {
   "metadata": {
    "ExecuteTime": {
     "end_time": "2024-05-22T07:23:40.044694Z",
     "start_time": "2024-05-22T07:23:40.040801Z"
    }
   },
   "cell_type": "code",
   "source": [
    "import mlflow\n",
    "from mlflow.tracking import MlflowClient\n",
    "import pandas as pd\n",
    "import numpy as np\n",
    "import seaborn as sns\n",
    "import matplotlib.pyplot as plt\n",
    "from matplotlib import rc"
   ],
   "id": "initial_id",
   "outputs": [],
   "execution_count": 6
  },
  {
   "metadata": {},
   "cell_type": "markdown",
   "source": "**1) Set up client**",
   "id": "385ff5eb6946ed24"
  },
  {
   "metadata": {
    "ExecuteTime": {
     "end_time": "2024-05-22T07:23:41.405018Z",
     "start_time": "2024-05-22T07:23:41.398422Z"
    }
   },
   "cell_type": "code",
   "source": [
    "mlflow.set_tracking_uri('http://localhost:3333')\n",
    "client = MlflowClient()"
   ],
   "id": "f43faa6ffd34b516",
   "outputs": [],
   "execution_count": 7
  },
  {
   "metadata": {},
   "cell_type": "markdown",
   "source": "**2) List experiments**",
   "id": "3bfb5b447c84178a"
  },
  {
   "metadata": {
    "ExecuteTime": {
     "end_time": "2024-05-22T07:23:42.493441Z",
     "start_time": "2024-05-22T07:23:42.388760Z"
    }
   },
   "cell_type": "code",
   "source": [
    "model_names = ['GT', 'CT', 'CRN', 'TECDE', 'RMSN', 'G-Net']\n",
    "experiment_names = [model_name + '/mimic3_synthetic_FINAL' for model_name in model_names]\n",
    "experiments = {exp.name: exp.experiment_id for exp in client.search_experiments()}"
   ],
   "id": "ae97b3bfd9c6bd33",
   "outputs": [],
   "execution_count": 8
  },
  {
   "metadata": {},
   "cell_type": "markdown",
   "source": "**3) Access all runs within each experiment and extract metrics + params**",
   "id": "27b55ef32eca858a"
  },
  {
   "metadata": {
    "ExecuteTime": {
     "end_time": "2024-05-22T07:23:47.042104Z",
     "start_time": "2024-05-22T07:23:43.572128Z"
    }
   },
   "cell_type": "code",
   "source": [
    "metric_names = ['decoder_test_rmse_2-step', 'decoder_test_rmse_3-step', 'decoder_test_rmse_4-step',\n",
    "                'decoder_test_rmse_5-step', 'decoder_test_rmse_6-step']\n",
    "\n",
    "param_names = ['model/name', 'dataset/max_number', 'dataset/seed']\n",
    "data_dict = {}\n",
    "\n",
    "for experiment_name in experiment_names:\n",
    "    if experiment_name in experiments:\n",
    "        experiment_id = experiments[experiment_name]\n",
    "        # Get all runs for the experiment\n",
    "        runs = client.search_runs(experiment_ids=[experiment_id])\n",
    "        # Extract metrics and parameters\n",
    "        runs_data = [\n",
    "            {\n",
    "                **run.data.metrics,\n",
    "                **run.data.params,\n",
    "                'run_id': run.info.run_id\n",
    "            }\n",
    "            for run in runs\n",
    "        ]\n",
    "        combined_df = pd.DataFrame(runs_data)\n",
    "        \n",
    "        if not combined_df.empty:\n",
    "            # Filter the DataFrame to only include the desired metrics and parameters\n",
    "            columns_to_include = ['run_id'] + metric_names + param_names\n",
    "            filtered_df = combined_df[columns_to_include]\n",
    "            data_dict[experiment_name.split(\"/\")[0]] = filtered_df\n",
    "        else:\n",
    "            print(f\"No runs found for experiment {experiment_name}.\")\n",
    "    else:\n",
    "        print(f\"Experiment {experiment_name} does not exist.\")\n",
    "\n",
    "for model in model_names:\n",
    "    data_dict[model] = data_dict[model].rename(columns={'decoder_test_rmse_2-step': '2',\n",
    "                                                        'decoder_test_rmse_3-step': '3',\n",
    "                                                        'decoder_test_rmse_4-step': '4',\n",
    "                                                        'decoder_test_rmse_5-step': '5',\n",
    "                                                        'decoder_test_rmse_6-step': '6',\n",
    "                                                        'dataset/max_number': 'N'})"
   ],
   "id": "287cef8dcbdba6fd",
   "outputs": [],
   "execution_count": 9
  },
  {
   "metadata": {},
   "cell_type": "markdown",
   "source": "**4) Compute mean and std of RMSEs per model and sample size**",
   "id": "7c6114b8cff1523b"
  },
  {
   "metadata": {
    "ExecuteTime": {
     "end_time": "2024-05-22T07:23:47.413219Z",
     "start_time": "2024-05-22T07:23:47.373553Z"
    }
   },
   "cell_type": "code",
   "source": [
    "GT_mean_rmse = data_dict['GT'].groupby('N')[['2', '3', '4', '5', '6']].mean()\n",
    "GT_mean_rmse['model'] = 'GT'\n",
    "GT_std_rmse = data_dict['GT'].groupby('N')[['2', '3', '4', '5', '6']].std()\n",
    "GT_std_rmse['model'] = 'GT'\n",
    "\n",
    "\n",
    "GNet_mean_rmse = data_dict['G-Net'].groupby('N')[['2', '3', '4', '5', '6']].mean()\n",
    "GNet_mean_rmse['model'] = 'G-Net'\n",
    "GNet_std_rmse = data_dict['G-Net'].groupby('N')[['2', '3', '4', '5', '6']].std()\n",
    "GNet_std_rmse['model'] = 'G-Net'\n",
    "\n",
    "RMSN_mean_rmse = data_dict['RMSN'].groupby('N')[['2', '3', '4', '5', '6']].mean()\n",
    "RMSN_mean_rmse['model'] = 'RMSN'\n",
    "RMSN_std_rmse = data_dict['RMSN'].groupby('N')[['2', '3', '4', '5', '6']].std()\n",
    "RMSN_std_rmse['model'] = 'RMSN'\n",
    "\n",
    "\n",
    "CT_mean_rmse = data_dict['CT'].groupby('N')[['2', '3', '4', '5', '6']].mean()\n",
    "CT_mean_rmse['model'] = 'CT'\n",
    "CT_std_rmse = data_dict['CT'].groupby('N')[['2', '3', '4', '5', '6']].std()\n",
    "CT_std_rmse['model'] = 'CT'\n",
    "\n",
    "\n",
    "CRN_mean_rmse = data_dict['CRN'].groupby('N')[['2', '3', '4', '5', '6']].mean()\n",
    "CRN_mean_rmse['model'] = 'CRN'\n",
    "CRN_std_rmse = data_dict['CRN'].groupby('N')[['2', '3', '4', '5', '6']].std()\n",
    "CRN_std_rmse['model'] = 'CRN'\n",
    "\n",
    "\n",
    "TECDE_mean_rmse = data_dict['TECDE'].groupby('N')[['2', '3', '4', '5', '6']].mean()\n",
    "TECDE_mean_rmse['model'] = 'TECDE'\n",
    "TECDE_std_rmse = data_dict['TECDE'].groupby('N')[['2', '3', '4', '5', '6']].std()\n",
    "TECDE_std_rmse['model'] = 'TECDE'\n",
    "\n",
    "mean_rmse = pd.concat([GT_mean_rmse, GNet_mean_rmse, RMSN_mean_rmse, CT_mean_rmse, CRN_mean_rmse, TECDE_mean_rmse], axis=0).reset_index()\n",
    "std_rmse = pd.concat([GT_std_rmse, GNet_std_rmse, RMSN_std_rmse, CT_std_rmse, CRN_std_rmse, TECDE_std_rmse], axis=0).reset_index()\n",
    "\n",
    "mean_rmse = mean_rmse.melt(id_vars=['N', 'model'], value_vars=['2', '3', '4', '5', '6'], var_name='tau', value_name='mean_rmse')\n",
    "mean_rmse['N'] = mean_rmse['N'].astype(int)\n",
    "mean_rmse['tau'] = mean_rmse['tau'].astype(int)\n",
    "std_rmse = std_rmse.melt(id_vars=['N', 'model'], value_vars=['2', '3', '4', '5', '6'], var_name='tau', value_name='std_rmse')\n",
    "std_rmse['N'] = std_rmse['N'].astype(int)\n",
    "std_rmse['tau'] = std_rmse['tau'].astype(int)"
   ],
   "id": "cd9ebc1588db587b",
   "outputs": [],
   "execution_count": 10
  },
  {
   "metadata": {},
   "cell_type": "markdown",
   "source": "**Average RMSE**",
   "id": "92b962f26a8d5a54"
  },
  {
   "metadata": {
    "ExecuteTime": {
     "end_time": "2024-05-22T07:23:57.239821Z",
     "start_time": "2024-05-22T07:23:57.221046Z"
    }
   },
   "cell_type": "code",
   "source": [
    "mean_rmse=mean_rmse.sort_values(by=['model', 'N', 'tau'])\n",
    "mean_rmse"
   ],
   "id": "59cd6dd2095bd26b",
   "outputs": [
    {
     "data": {
      "text/plain": [
       "       N  model  tau  mean_rmse\n",
       "12  1000    CRN    2   0.417589\n",
       "30  1000    CRN    3   0.580008\n",
       "48  1000    CRN    4   0.739015\n",
       "66  1000    CRN    5   0.844462\n",
       "84  1000    CRN    6   0.945248\n",
       "..   ...    ...  ...        ...\n",
       "17  3000  TECDE    2   0.706733\n",
       "35  3000  TECDE    3   0.783462\n",
       "53  3000  TECDE    4   0.878594\n",
       "71  3000  TECDE    5   0.944441\n",
       "89  3000  TECDE    6   1.020241\n",
       "\n",
       "[90 rows x 4 columns]"
      ],
      "text/html": [
       "<div>\n",
       "<style scoped>\n",
       "    .dataframe tbody tr th:only-of-type {\n",
       "        vertical-align: middle;\n",
       "    }\n",
       "\n",
       "    .dataframe tbody tr th {\n",
       "        vertical-align: top;\n",
       "    }\n",
       "\n",
       "    .dataframe thead th {\n",
       "        text-align: right;\n",
       "    }\n",
       "</style>\n",
       "<table border=\"1\" class=\"dataframe\">\n",
       "  <thead>\n",
       "    <tr style=\"text-align: right;\">\n",
       "      <th></th>\n",
       "      <th>N</th>\n",
       "      <th>model</th>\n",
       "      <th>tau</th>\n",
       "      <th>mean_rmse</th>\n",
       "    </tr>\n",
       "  </thead>\n",
       "  <tbody>\n",
       "    <tr>\n",
       "      <th>12</th>\n",
       "      <td>1000</td>\n",
       "      <td>CRN</td>\n",
       "      <td>2</td>\n",
       "      <td>0.417589</td>\n",
       "    </tr>\n",
       "    <tr>\n",
       "      <th>30</th>\n",
       "      <td>1000</td>\n",
       "      <td>CRN</td>\n",
       "      <td>3</td>\n",
       "      <td>0.580008</td>\n",
       "    </tr>\n",
       "    <tr>\n",
       "      <th>48</th>\n",
       "      <td>1000</td>\n",
       "      <td>CRN</td>\n",
       "      <td>4</td>\n",
       "      <td>0.739015</td>\n",
       "    </tr>\n",
       "    <tr>\n",
       "      <th>66</th>\n",
       "      <td>1000</td>\n",
       "      <td>CRN</td>\n",
       "      <td>5</td>\n",
       "      <td>0.844462</td>\n",
       "    </tr>\n",
       "    <tr>\n",
       "      <th>84</th>\n",
       "      <td>1000</td>\n",
       "      <td>CRN</td>\n",
       "      <td>6</td>\n",
       "      <td>0.945248</td>\n",
       "    </tr>\n",
       "    <tr>\n",
       "      <th>...</th>\n",
       "      <td>...</td>\n",
       "      <td>...</td>\n",
       "      <td>...</td>\n",
       "      <td>...</td>\n",
       "    </tr>\n",
       "    <tr>\n",
       "      <th>17</th>\n",
       "      <td>3000</td>\n",
       "      <td>TECDE</td>\n",
       "      <td>2</td>\n",
       "      <td>0.706733</td>\n",
       "    </tr>\n",
       "    <tr>\n",
       "      <th>35</th>\n",
       "      <td>3000</td>\n",
       "      <td>TECDE</td>\n",
       "      <td>3</td>\n",
       "      <td>0.783462</td>\n",
       "    </tr>\n",
       "    <tr>\n",
       "      <th>53</th>\n",
       "      <td>3000</td>\n",
       "      <td>TECDE</td>\n",
       "      <td>4</td>\n",
       "      <td>0.878594</td>\n",
       "    </tr>\n",
       "    <tr>\n",
       "      <th>71</th>\n",
       "      <td>3000</td>\n",
       "      <td>TECDE</td>\n",
       "      <td>5</td>\n",
       "      <td>0.944441</td>\n",
       "    </tr>\n",
       "    <tr>\n",
       "      <th>89</th>\n",
       "      <td>3000</td>\n",
       "      <td>TECDE</td>\n",
       "      <td>6</td>\n",
       "      <td>1.020241</td>\n",
       "    </tr>\n",
       "  </tbody>\n",
       "</table>\n",
       "<p>90 rows × 4 columns</p>\n",
       "</div>"
      ]
     },
     "execution_count": 11,
     "metadata": {},
     "output_type": "execute_result"
    }
   ],
   "execution_count": 11
  },
  {
   "metadata": {},
   "cell_type": "markdown",
   "source": "**Standard deviation**",
   "id": "25150e4aae78967a"
  },
  {
   "metadata": {
    "ExecuteTime": {
     "end_time": "2024-05-22T07:24:28.435768Z",
     "start_time": "2024-05-22T07:24:28.424448Z"
    }
   },
   "cell_type": "code",
   "source": [
    "std_rmse=std_rmse.sort_values(by=['model', 'N', 'tau'])\n",
    "std_rmse"
   ],
   "id": "fced061067e71113",
   "outputs": [
    {
     "data": {
      "text/plain": [
       "       N  model  tau  std_rmse\n",
       "12  1000    CRN    2  0.114793\n",
       "30  1000    CRN    3  0.205470\n",
       "48  1000    CRN    4  0.310860\n",
       "66  1000    CRN    5  0.416592\n",
       "84  1000    CRN    6  0.511582\n",
       "..   ...    ...  ...       ...\n",
       "17  3000  TECDE    2  0.091428\n",
       "35  3000  TECDE    3  0.093194\n",
       "53  3000  TECDE    4  0.108446\n",
       "71  3000  TECDE    5  0.118396\n",
       "89  3000  TECDE    6  0.126900\n",
       "\n",
       "[90 rows x 4 columns]"
      ],
      "text/html": [
       "<div>\n",
       "<style scoped>\n",
       "    .dataframe tbody tr th:only-of-type {\n",
       "        vertical-align: middle;\n",
       "    }\n",
       "\n",
       "    .dataframe tbody tr th {\n",
       "        vertical-align: top;\n",
       "    }\n",
       "\n",
       "    .dataframe thead th {\n",
       "        text-align: right;\n",
       "    }\n",
       "</style>\n",
       "<table border=\"1\" class=\"dataframe\">\n",
       "  <thead>\n",
       "    <tr style=\"text-align: right;\">\n",
       "      <th></th>\n",
       "      <th>N</th>\n",
       "      <th>model</th>\n",
       "      <th>tau</th>\n",
       "      <th>std_rmse</th>\n",
       "    </tr>\n",
       "  </thead>\n",
       "  <tbody>\n",
       "    <tr>\n",
       "      <th>12</th>\n",
       "      <td>1000</td>\n",
       "      <td>CRN</td>\n",
       "      <td>2</td>\n",
       "      <td>0.114793</td>\n",
       "    </tr>\n",
       "    <tr>\n",
       "      <th>30</th>\n",
       "      <td>1000</td>\n",
       "      <td>CRN</td>\n",
       "      <td>3</td>\n",
       "      <td>0.205470</td>\n",
       "    </tr>\n",
       "    <tr>\n",
       "      <th>48</th>\n",
       "      <td>1000</td>\n",
       "      <td>CRN</td>\n",
       "      <td>4</td>\n",
       "      <td>0.310860</td>\n",
       "    </tr>\n",
       "    <tr>\n",
       "      <th>66</th>\n",
       "      <td>1000</td>\n",
       "      <td>CRN</td>\n",
       "      <td>5</td>\n",
       "      <td>0.416592</td>\n",
       "    </tr>\n",
       "    <tr>\n",
       "      <th>84</th>\n",
       "      <td>1000</td>\n",
       "      <td>CRN</td>\n",
       "      <td>6</td>\n",
       "      <td>0.511582</td>\n",
       "    </tr>\n",
       "    <tr>\n",
       "      <th>...</th>\n",
       "      <td>...</td>\n",
       "      <td>...</td>\n",
       "      <td>...</td>\n",
       "      <td>...</td>\n",
       "    </tr>\n",
       "    <tr>\n",
       "      <th>17</th>\n",
       "      <td>3000</td>\n",
       "      <td>TECDE</td>\n",
       "      <td>2</td>\n",
       "      <td>0.091428</td>\n",
       "    </tr>\n",
       "    <tr>\n",
       "      <th>35</th>\n",
       "      <td>3000</td>\n",
       "      <td>TECDE</td>\n",
       "      <td>3</td>\n",
       "      <td>0.093194</td>\n",
       "    </tr>\n",
       "    <tr>\n",
       "      <th>53</th>\n",
       "      <td>3000</td>\n",
       "      <td>TECDE</td>\n",
       "      <td>4</td>\n",
       "      <td>0.108446</td>\n",
       "    </tr>\n",
       "    <tr>\n",
       "      <th>71</th>\n",
       "      <td>3000</td>\n",
       "      <td>TECDE</td>\n",
       "      <td>5</td>\n",
       "      <td>0.118396</td>\n",
       "    </tr>\n",
       "    <tr>\n",
       "      <th>89</th>\n",
       "      <td>3000</td>\n",
       "      <td>TECDE</td>\n",
       "      <td>6</td>\n",
       "      <td>0.126900</td>\n",
       "    </tr>\n",
       "  </tbody>\n",
       "</table>\n",
       "<p>90 rows × 4 columns</p>\n",
       "</div>"
      ]
     },
     "execution_count": 12,
     "metadata": {},
     "output_type": "execute_result"
    }
   ],
   "execution_count": 12
  },
  {
   "metadata": {},
   "cell_type": "markdown",
   "source": "**Relative improvement**",
   "id": "a42ec878cea9062d"
  },
  {
   "metadata": {},
   "cell_type": "code",
   "outputs": [
    {
     "data": {
      "text/plain": [
       "array([0.0952854 , 0.19655063, 0.16315255, 0.16687307, 0.10775189,\n",
       "       0.15253114, 0.22537414, 0.22470995, 0.22626632, 0.25027353,\n",
       "       0.26714094, 0.2404785 , 0.25182911, 0.24554943, 0.21553881])"
      ]
     },
     "execution_count": 20,
     "metadata": {},
     "output_type": "execute_result"
    }
   ],
   "execution_count": 20,
   "source": [
    "# minimum of non_GT_mean_rmse for each confounding parameter\n",
    "non_GT_mean_rmse = mean_rmse[mean_rmse['model'] != 'GT']\n",
    "min_non_GT_mean_rmse = non_GT_mean_rmse.groupby(['N','tau'])[['mean_rmse']].min()\n",
    "\n",
    "1 - np.array(mean_rmse[mean_rmse['model'] == 'GT']['mean_rmse']) / np.array(min_non_GT_mean_rmse['mean_rmse'])\n"
   ],
   "id": "64a566a7a64a2ed"
  }
 ],
 "metadata": {
  "kernelspec": {
   "display_name": "Python 3",
   "language": "python",
   "name": "python3"
  },
  "language_info": {
   "codemirror_mode": {
    "name": "ipython",
    "version": 2
   },
   "file_extension": ".py",
   "mimetype": "text/x-python",
   "name": "python",
   "nbconvert_exporter": "python",
   "pygments_lexer": "ipython2",
   "version": "2.7.6"
  }
 },
 "nbformat": 4,
 "nbformat_minor": 5
}
